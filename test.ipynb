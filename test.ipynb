{
 "cells": [
  {
   "cell_type": "code",
   "execution_count": 29,
   "metadata": {},
   "outputs": [
    {
     "ename": "NameError",
     "evalue": "name 'latitude' is not defined",
     "output_type": "error",
     "traceback": [
      "\u001b[0;31m---------------------------------------------------------------------------\u001b[0m",
      "\u001b[0;31mNameError\u001b[0m                                 Traceback (most recent call last)",
      "Cell \u001b[0;32mIn[29], line 51\u001b[0m\n\u001b[1;32m     46\u001b[0m observations \u001b[38;5;241m=\u001b[39m []\n\u001b[1;32m     47\u001b[0m \u001b[38;5;28;01mfor\u001b[39;00m date, temp \u001b[38;5;129;01min\u001b[39;00m \u001b[38;5;28mzip\u001b[39m(hourly_dates, hourly_temperature_2m):\n\u001b[1;32m     48\u001b[0m     observations\u001b[38;5;241m.\u001b[39mappend({\n\u001b[1;32m     49\u001b[0m         \u001b[38;5;124m\"\u001b[39m\u001b[38;5;124mdate\u001b[39m\u001b[38;5;124m\"\u001b[39m: date,\n\u001b[1;32m     50\u001b[0m         \u001b[38;5;124m\"\u001b[39m\u001b[38;5;124mtemperature_2m\u001b[39m\u001b[38;5;124m\"\u001b[39m: \u001b[38;5;28mfloat\u001b[39m(temp),\n\u001b[0;32m---> 51\u001b[0m         \u001b[38;5;124m\"\u001b[39m\u001b[38;5;124mlatitude\u001b[39m\u001b[38;5;124m\"\u001b[39m: \u001b[43mlatitude\u001b[49m,\n\u001b[1;32m     52\u001b[0m         \u001b[38;5;124m\"\u001b[39m\u001b[38;5;124mlongitude\u001b[39m\u001b[38;5;124m\"\u001b[39m: longitude,\n\u001b[1;32m     53\u001b[0m         \u001b[38;5;124m\"\u001b[39m\u001b[38;5;124mcity_name\u001b[39m\u001b[38;5;124m\"\u001b[39m: city_name\n\u001b[1;32m     54\u001b[0m     })\n\u001b[1;32m     56\u001b[0m \u001b[38;5;66;03m# Combine response_info and observations into a single JSON structure\u001b[39;00m\n\u001b[1;32m     57\u001b[0m json_response \u001b[38;5;241m=\u001b[39m {\n\u001b[1;32m     58\u001b[0m     \u001b[38;5;124m\"\u001b[39m\u001b[38;5;124mresponse_info\u001b[39m\u001b[38;5;124m\"\u001b[39m: response_info,\n\u001b[1;32m     59\u001b[0m     \u001b[38;5;124m\"\u001b[39m\u001b[38;5;124mweather_data\u001b[39m\u001b[38;5;124m\"\u001b[39m: observations\n\u001b[1;32m     60\u001b[0m }\n",
      "\u001b[0;31mNameError\u001b[0m: name 'latitude' is not defined"
     ]
    }
   ],
   "source": [
    "import openmeteo_requests\n",
    "import requests_cache\n",
    "import pandas as pd\n",
    "from retry_requests import retry\n",
    "import numpy as np\n",
    "import json\n",
    "\n",
    "# Setup the Open-Meteo API client with cache and retry on error\n",
    "cache_session = requests_cache.CachedSession('.cache', expire_after=-1)\n",
    "retry_session = retry(cache_session, retries=5, backoff_factor=0.2)\n",
    "openmeteo = openmeteo_requests.Client(session=retry_session)\n",
    "\n",
    "# Make sure all required weather variables are listed here\n",
    "# The order of variables in hourly or daily is important to assign them correctly below\n",
    "url = \"https://archive-api.open-meteo.com/v1/archive\"\n",
    "params = {\n",
    "    \"latitude\": 52.52,\n",
    "    \"longitude\": 13.41,\n",
    "    \"start_date\": \"2024-07-23\",\n",
    "    \"end_date\": \"2024-08-06\",\n",
    "    \"hourly\": \"temperature_2m\"\n",
    "}\n",
    "responses = openmeteo.weather_api(url, params=params)\n",
    "\n",
    "# Process first location. Add a for-loop for multiple locations or weather models\n",
    "response = responses[0]\n",
    "response_info = {\n",
    "    \"coordinates\": f\"{response.Latitude()} {response.Longitude()}\",\n",
    "    \"elevation\": f\"{response.Elevation()}\",\n",
    "    \"timezone\": f\"{response.Timezone()} {response.TimezoneAbbreviation()}\",\n",
    "    \"timezone_difference_to_GMT\": f\"{response.UtcOffsetSeconds()}\"\n",
    "}\n",
    "\n",
    "# Process hourly data. The order of variables needs to be the same as requested.\n",
    "hourly = response.Hourly()\n",
    "hourly_temperature_2m = hourly.Variables(0).ValuesAsNumpy()\n",
    "\n",
    "hourly_dates = pd.date_range(\n",
    "    start=pd.to_datetime(hourly.Time(), unit=\"s\", utc=True),\n",
    "    end=pd.to_datetime(hourly.TimeEnd(), unit=\"s\", utc=True),\n",
    "    freq=pd.Timedelta(seconds=hourly.Interval()),\n",
    "    inclusive=\"left\"\n",
    ").strftime('%Y-%m-%d %H:%M:%S')\n",
    "\n",
    "# Create a list of dictionaries for each observation\n",
    "observations = []\n",
    "for date, temp in zip(hourly_dates, hourly_temperature_2m):\n",
    "    observations.append({\n",
    "        \"date\": date,\n",
    "        \"temperature_2m\": float(temp),\n",
    "        \"latitude\": latitude,\n",
    "        \"longitude\": longitude,\n",
    "        \"city_name\": city_name\n",
    "    })\n",
    "\n",
    "# Combine response_info and observations into a single JSON structure\n",
    "json_response = {\n",
    "    \"response_info\": response_info,\n",
    "    \"weather_data\": observations\n",
    "}\n",
    "\n",
    "# Convert to JSON string\n",
    "json_response_str = json.dumps(json_response, indent=4)\n",
    "print(json_response['weather_data'])"
   ]
  }
 ],
 "metadata": {
  "kernelspec": {
   "display_name": ".myvenv",
   "language": "python",
   "name": "python3"
  },
  "language_info": {
   "codemirror_mode": {
    "name": "ipython",
    "version": 3
   },
   "file_extension": ".py",
   "mimetype": "text/x-python",
   "name": "python",
   "nbconvert_exporter": "python",
   "pygments_lexer": "ipython3",
   "version": "3.11.9"
  }
 },
 "nbformat": 4,
 "nbformat_minor": 2
}
