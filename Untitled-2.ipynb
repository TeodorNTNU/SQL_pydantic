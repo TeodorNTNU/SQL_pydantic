{
 "cells": [
  {
   "cell_type": "code",
   "execution_count": 1,
   "metadata": {},
   "outputs": [],
   "source": [
    "from dotenv import load_dotenv\n",
    "import os\n",
    "\n",
    "load_dotenv()\n",
    "\n",
    "OPENAI_API_KEY = os.getenv(\"OPENAI_API_KEY\")\n",
    "\n",
    "from langchain_openai import ChatOpenAI\n",
    "\n",
    "# Create the OpenAI LLM\n",
    "llm = ChatOpenAI(model=\"gpt-3.5-turbo-1106\", temperature=0, streaming=True)"
   ]
  },
  {
   "cell_type": "code",
   "execution_count": 2,
   "metadata": {},
   "outputs": [],
   "source": [
    "from sqlalchemy import create_engine\n",
    "from sqlalchemy.orm import sessionmaker, declarative_base, Session\n",
    "\n",
    "SQLALCHEMY_DATABASE_URL = 'sqlite:///./api_data.db'\n",
    "\n",
    "# Assume you have a function to get a database session\n",
    "def get_db():\n",
    "    # Replace with your actual DB connection logic\n",
    "    engine = create_engine(SQLALCHEMY_DATABASE_URL)\n",
    "    SessionLocal = sessionmaker(autocommit=False, autoflush=False, bind=engine)\n",
    "    try:\n",
    "        db = SessionLocal()\n",
    "        yield db\n",
    "    finally:\n",
    "        db.close()"
   ]
  },
  {
   "cell_type": "markdown",
   "metadata": {},
   "source": [
    "## Database models"
   ]
  },
  {
   "cell_type": "code",
   "execution_count": 3,
   "metadata": {},
   "outputs": [],
   "source": [
    "Base = declarative_base()"
   ]
  },
  {
   "cell_type": "code",
   "execution_count": 4,
   "metadata": {},
   "outputs": [],
   "source": [
    "from sqlalchemy import Column, Integer, String, Text, Float, Boolean, DateTime\n",
    "import datetime\n",
    "\n",
    "class ElectricityData(Base):\n",
    "    __tablename__ = 'electricity_prices'\n",
    "    id = Column(Integer, primary_key=True, index=True)\n",
    "    city = Column(String, index=True)\n",
    "    state = Column(String, index=True)\n",
    "    date_query = Column(String, index=True)\n",
    "    region = Column(String, index=True)\n",
    "    NOK_per_kWh = Column(Float)\n",
    "    EUR_per_kWh = Column(Float)\n",
    "    EXR = Column(Float)\n",
    "    time_start = Column(String)\n",
    "    time_end = Column(String)\n",
    "    timestamp = Column(DateTime, default=datetime.datetime.now(datetime.UTC))\n",
    "\n",
    "class WeatherData(Base):\n",
    "    __tablename__ = 'weather_data'\n",
    "\n",
    "    id = Column(Integer, primary_key=True, index=True)\n",
    "    city = Column(String, index=True)\n",
    "    state = Column(String, index=True)\n",
    "    date_query = Column(String)\n",
    "    temperature = Column(Float)\n",
    "    time_start = Column(Text)\n",
    "    time_end = Column(Text)\n",
    "    timestamp = Column(DateTime, default=datetime.datetime.now(datetime.UTC))\n"
   ]
  },
  {
   "cell_type": "markdown",
   "metadata": {},
   "source": [
    "## Pydantic models"
   ]
  },
  {
   "cell_type": "code",
   "execution_count": 5,
   "metadata": {},
   "outputs": [],
   "source": [
    "# %%\n",
    "# schemas.py\n",
    "from pydantic import BaseModel, Field\n",
    "from typing import List\n",
    "\n",
    "class ElPriceResponse(BaseModel):\n",
    "    NOK_per_kWh: float\n",
    "    EUR_per_kWh: float\n",
    "    EXR: float\n",
    "    time_start: str\n",
    "    time_end: str\n",
    "\n",
    "    class Config:\n",
    "        from_attributes = True\n",
    "\n",
    "class ElPriceRequest(BaseModel):\n",
    "    city: str = Field(description=\"City\")\n",
    "    state: str = Field(description=\"State or region\")\n",
    "    date_query: str = Field(description=\"Date query (e.g., 'today', 'yesterday', 'last 10 days', 'last 30 days', 'last three months', or 'YYYY-MM-DD/YYYY-MM-DD')\")\n",
    "\n",
    "# Pydantic models\n",
    "class WeatherDataResponse(BaseModel):\n",
    "    temperature: float\n",
    "    time_start: str\n",
    "    time_end: str\n",
    "\n",
    "    class Config:\n",
    "        from_attributes = True\n",
    "\n",
    "class WeatherRequest(BaseModel):\n",
    "    city: str = Field(description=\"City\")\n",
    "    state: str = Field(description=\"State or region\")\n",
    "    date_query: str = Field(description=\"Date query (e.g., 'today', 'yesterday', 'last 10 days', 'last 30 days', 'last three months', or 'YYYY-MM-DD/YYYY-MM-DD')\")"
   ]
  },
  {
   "cell_type": "code",
   "execution_count": 6,
   "metadata": {},
   "outputs": [
    {
     "name": "stdout",
     "output_type": "stream",
     "text": [
      "[ElPriceResponse(NOK_per_kWh=0.60463, EUR_per_kWh=0.05379, EXR=11.2405, time_start='2024-01-01T00:00:00+01:00', time_end='2024-01-01T01:00:00+01:00'), ElPriceResponse(NOK_per_kWh=0.55056, EUR_per_kWh=0.04898, EXR=11.2405, time_start='2024-01-01T01:00:00+01:00', time_end='2024-01-01T02:00:00+01:00'), ElPriceResponse(NOK_per_kWh=0.30855, EUR_per_kWh=0.02745, EXR=11.2405, time_start='2024-01-01T02:00:00+01:00', time_end='2024-01-01T03:00:00+01:00'), ElPriceResponse(NOK_per_kWh=0.27517, EUR_per_kWh=0.02448, EXR=11.2405, time_start='2024-01-01T03:00:00+01:00', time_end='2024-01-01T04:00:00+01:00'), ElPriceResponse(NOK_per_kWh=0.26988, EUR_per_kWh=0.02401, EXR=11.2405, time_start='2024-01-01T04:00:00+01:00', time_end='2024-01-01T05:00:00+01:00'), ElPriceResponse(NOK_per_kWh=0.23864, EUR_per_kWh=0.02123, EXR=11.2405, time_start='2024-01-01T05:00:00+01:00', time_end='2024-01-01T06:00:00+01:00'), ElPriceResponse(NOK_per_kWh=0.25426, EUR_per_kWh=0.02262, EXR=11.2405, time_start='2024-01-01T06:00:00+01:00', time_end='2024-01-01T07:00:00+01:00'), ElPriceResponse(NOK_per_kWh=0.28146, EUR_per_kWh=0.02504, EXR=11.2405, time_start='2024-01-01T07:00:00+01:00', time_end='2024-01-01T08:00:00+01:00'), ElPriceResponse(NOK_per_kWh=0.29495, EUR_per_kWh=0.02624, EXR=11.2405, time_start='2024-01-01T08:00:00+01:00', time_end='2024-01-01T09:00:00+01:00'), ElPriceResponse(NOK_per_kWh=0.36206, EUR_per_kWh=0.03221, EXR=11.2405, time_start='2024-01-01T09:00:00+01:00', time_end='2024-01-01T10:00:00+01:00'), ElPriceResponse(NOK_per_kWh=0.53628, EUR_per_kWh=0.04771, EXR=11.2405, time_start='2024-01-01T10:00:00+01:00', time_end='2024-01-01T11:00:00+01:00'), ElPriceResponse(NOK_per_kWh=0.59024, EUR_per_kWh=0.05251, EXR=11.2405, time_start='2024-01-01T11:00:00+01:00', time_end='2024-01-01T12:00:00+01:00'), ElPriceResponse(NOK_per_kWh=0.63588, EUR_per_kWh=0.05657, EXR=11.2405, time_start='2024-01-01T12:00:00+01:00', time_end='2024-01-01T13:00:00+01:00'), ElPriceResponse(NOK_per_kWh=0.67241, EUR_per_kWh=0.05982, EXR=11.2405, time_start='2024-01-01T13:00:00+01:00', time_end='2024-01-01T14:00:00+01:00'), ElPriceResponse(NOK_per_kWh=0.69759, EUR_per_kWh=0.06206, EXR=11.2405, time_start='2024-01-01T14:00:00+01:00', time_end='2024-01-01T15:00:00+01:00'), ElPriceResponse(NOK_per_kWh=0.70276, EUR_per_kWh=0.06252, EXR=11.2405, time_start='2024-01-01T15:00:00+01:00', time_end='2024-01-01T16:00:00+01:00'), ElPriceResponse(NOK_per_kWh=0.71029, EUR_per_kWh=0.06319, EXR=11.2405, time_start='2024-01-01T16:00:00+01:00', time_end='2024-01-01T17:00:00+01:00'), ElPriceResponse(NOK_per_kWh=0.73052, EUR_per_kWh=0.06499, EXR=11.2405, time_start='2024-01-01T17:00:00+01:00', time_end='2024-01-01T18:00:00+01:00'), ElPriceResponse(NOK_per_kWh=0.71467, EUR_per_kWh=0.06358, EXR=11.2405, time_start='2024-01-01T18:00:00+01:00', time_end='2024-01-01T19:00:00+01:00'), ElPriceResponse(NOK_per_kWh=0.70928, EUR_per_kWh=0.0631, EXR=11.2405, time_start='2024-01-01T19:00:00+01:00', time_end='2024-01-01T20:00:00+01:00'), ElPriceResponse(NOK_per_kWh=0.6986, EUR_per_kWh=0.06215, EXR=11.2405, time_start='2024-01-01T20:00:00+01:00', time_end='2024-01-01T21:00:00+01:00'), ElPriceResponse(NOK_per_kWh=0.65498, EUR_per_kWh=0.05827, EXR=11.2405, time_start='2024-01-01T21:00:00+01:00', time_end='2024-01-01T22:00:00+01:00'), ElPriceResponse(NOK_per_kWh=0.59103, EUR_per_kWh=0.05258, EXR=11.2405, time_start='2024-01-01T22:00:00+01:00', time_end='2024-01-01T23:00:00+01:00'), ElPriceResponse(NOK_per_kWh=0.49492, EUR_per_kWh=0.04403, EXR=11.2405, time_start='2024-01-01T23:00:00+01:00', time_end='2024-01-02T00:00:00+01:00')]\n",
      "[WeatherDataResponse(temperature=-6.793000221252441, time_start='2024-01-01T00:00:00+0000', time_end='2024-01-01T01:00:00+0000'), WeatherDataResponse(temperature=-5.993000030517578, time_start='2024-01-01T01:00:00+0000', time_end='2024-01-01T02:00:00+0000'), WeatherDataResponse(temperature=-6.293000221252441, time_start='2024-01-01T02:00:00+0000', time_end='2024-01-01T03:00:00+0000'), WeatherDataResponse(temperature=-6.493000030517578, time_start='2024-01-01T03:00:00+0000', time_end='2024-01-01T04:00:00+0000'), WeatherDataResponse(temperature=-6.543000221252441, time_start='2024-01-01T04:00:00+0000', time_end='2024-01-01T05:00:00+0000'), WeatherDataResponse(temperature=-6.743000030517578, time_start='2024-01-01T05:00:00+0000', time_end='2024-01-01T06:00:00+0000'), WeatherDataResponse(temperature=-6.892999649047852, time_start='2024-01-01T06:00:00+0000', time_end='2024-01-01T07:00:00+0000'), WeatherDataResponse(temperature=-7.043000221252441, time_start='2024-01-01T07:00:00+0000', time_end='2024-01-01T08:00:00+0000'), WeatherDataResponse(temperature=-7.142999649047852, time_start='2024-01-01T08:00:00+0000', time_end='2024-01-01T09:00:00+0000'), WeatherDataResponse(temperature=-7.342999458312988, time_start='2024-01-01T09:00:00+0000', time_end='2024-01-01T10:00:00+0000'), WeatherDataResponse(temperature=-7.392999649047852, time_start='2024-01-01T10:00:00+0000', time_end='2024-01-01T11:00:00+0000'), WeatherDataResponse(temperature=-7.243000030517578, time_start='2024-01-01T11:00:00+0000', time_end='2024-01-01T12:00:00+0000'), WeatherDataResponse(temperature=-6.942999839782715, time_start='2024-01-01T12:00:00+0000', time_end='2024-01-01T13:00:00+0000'), WeatherDataResponse(temperature=-6.493000030517578, time_start='2024-01-01T13:00:00+0000', time_end='2024-01-01T14:00:00+0000'), WeatherDataResponse(temperature=-6.493000030517578, time_start='2024-01-01T14:00:00+0000', time_end='2024-01-01T15:00:00+0000'), WeatherDataResponse(temperature=-6.642999649047852, time_start='2024-01-01T15:00:00+0000', time_end='2024-01-01T16:00:00+0000'), WeatherDataResponse(temperature=-6.942999839782715, time_start='2024-01-01T16:00:00+0000', time_end='2024-01-01T17:00:00+0000'), WeatherDataResponse(temperature=-6.743000030517578, time_start='2024-01-01T17:00:00+0000', time_end='2024-01-01T18:00:00+0000'), WeatherDataResponse(temperature=-7.142999649047852, time_start='2024-01-01T18:00:00+0000', time_end='2024-01-01T19:00:00+0000'), WeatherDataResponse(temperature=-7.043000221252441, time_start='2024-01-01T19:00:00+0000', time_end='2024-01-01T20:00:00+0000'), WeatherDataResponse(temperature=-7.142999649047852, time_start='2024-01-01T20:00:00+0000', time_end='2024-01-01T21:00:00+0000'), WeatherDataResponse(temperature=-7.293000221252441, time_start='2024-01-01T21:00:00+0000', time_end='2024-01-01T22:00:00+0000'), WeatherDataResponse(temperature=-7.493000030517578, time_start='2024-01-01T22:00:00+0000', time_end='2024-01-01T23:00:00+0000')]\n"
     ]
    }
   ],
   "source": [
    "from sqlalchemy.orm import Session\n",
    "from typing import List\n",
    "\n",
    "\n",
    "# Assuming you have a session (db) and retrieve all electricity prices\n",
    "def get_all_electricity_prices(db: Session) -> List[ElPriceResponse]:\n",
    "    prices = db.query(ElectricityData).all()\n",
    "    return [ElPriceResponse.from_orm(price) for price in prices]\n",
    "\n",
    "# Similarly for weather data\n",
    "def get_all_weather_data(db: Session) -> List[WeatherDataResponse]:\n",
    "    weather_data = db.query(WeatherData).all()\n",
    "    return [WeatherDataResponse.from_orm(weather) for weather in weather_data]\n",
    "\n",
    "# Example usage\n",
    "db = next(get_db())\n",
    "\n",
    "# Retrieve all electricity prices\n",
    "all_prices = get_all_electricity_prices(db)\n",
    "print(all_prices)  # This will now print a list of Pydantic models with the data\n",
    "\n",
    "# Retrieve all weather data\n",
    "all_weather = get_all_weather_data(db)\n",
    "print(all_weather)  # This will now print a list of Pydantic models with the data\n",
    "\n",
    "db.close()"
   ]
  },
  {
   "cell_type": "code",
   "execution_count": 7,
   "metadata": {},
   "outputs": [],
   "source": [
    "from langchain.tools import tool\n",
    "from langchain.tools import StructuredTool\n",
    "\n",
    "\n",
    "# Fetch electricity prices\n",
    "def fetch_electricity_prices(request: ElPriceRequest) -> List[ElPriceResponse]:\n",
    "    db_session = next(get_db())\n",
    "    query = db_session.query(ElectricityData)\n",
    "\n",
    "    prices = query.all()\n",
    "    db_session.close()\n",
    "    return [ElPriceResponse(\n",
    "        NOK_per_kWh=price.NOK_per_kWh,\n",
    "        EUR_per_kWh=price.EUR_per_kWh,\n",
    "        EXR=price.EXR,\n",
    "        time_start=price.time_start,\n",
    "        time_end=price.time_end\n",
    "    ) for price in prices]\n",
    "\n",
    "\n",
    "def fetch_weather_data(request: WeatherRequest) -> List[WeatherDataResponse]:\n",
    "    db_session = next(get_db())\n",
    "    query = db_session.query(WeatherData)\n",
    "\n",
    "    weather_data = query.all()\n",
    "    db_session.close()\n",
    "    \n",
    "    return [WeatherDataResponse.from_orm(data) for data in weather_data]\n",
    "\n",
    "\n",
    "# Create the tools explicitly\n",
    "electricity_price_tool = StructuredTool(\n",
    "    func=fetch_electricity_prices,\n",
    "    name=\"Fetch_Electricity_Prices\",\n",
    "    description=\"Fetch electricity prices for a specified city, state, and date.\",\n",
    "    args_schema=ElPriceRequest,\n",
    "    return_direct=False,\n",
    ")\n",
    "\n",
    "weather_tool = StructuredTool(\n",
    "    func=fetch_weather_data,\n",
    "    name=\"Fetch_Weather_Data\",\n",
    "    description=\"Fetch weather data from a specified city and state, with a date query.\",\n",
    "    args_schema=WeatherRequest,\n",
    "    return_direct=False,\n",
    ")\n",
    "\n",
    "# List of tools\n",
    "tools = [weather_tool, electricity_price_tool]"
   ]
  },
  {
   "cell_type": "code",
   "execution_count": 8,
   "metadata": {},
   "outputs": [
    {
     "name": "stdout",
     "output_type": "stream",
     "text": [
      "{\"NOK_per_kWh\":0.60463,\"EUR_per_kWh\":0.05379,\"EXR\":11.2405,\"time_start\":\"2024-01-01T00:00:00+01:00\",\"time_end\":\"2024-01-01T01:00:00+01:00\"}\n",
      "{\"NOK_per_kWh\":0.55056,\"EUR_per_kWh\":0.04898,\"EXR\":11.2405,\"time_start\":\"2024-01-01T01:00:00+01:00\",\"time_end\":\"2024-01-01T02:00:00+01:00\"}\n",
      "{\"NOK_per_kWh\":0.30855,\"EUR_per_kWh\":0.02745,\"EXR\":11.2405,\"time_start\":\"2024-01-01T02:00:00+01:00\",\"time_end\":\"2024-01-01T03:00:00+01:00\"}\n",
      "{\"NOK_per_kWh\":0.27517,\"EUR_per_kWh\":0.02448,\"EXR\":11.2405,\"time_start\":\"2024-01-01T03:00:00+01:00\",\"time_end\":\"2024-01-01T04:00:00+01:00\"}\n",
      "{\"NOK_per_kWh\":0.26988,\"EUR_per_kWh\":0.02401,\"EXR\":11.2405,\"time_start\":\"2024-01-01T04:00:00+01:00\",\"time_end\":\"2024-01-01T05:00:00+01:00\"}\n",
      "{\"NOK_per_kWh\":0.23864,\"EUR_per_kWh\":0.02123,\"EXR\":11.2405,\"time_start\":\"2024-01-01T05:00:00+01:00\",\"time_end\":\"2024-01-01T06:00:00+01:00\"}\n",
      "{\"NOK_per_kWh\":0.25426,\"EUR_per_kWh\":0.02262,\"EXR\":11.2405,\"time_start\":\"2024-01-01T06:00:00+01:00\",\"time_end\":\"2024-01-01T07:00:00+01:00\"}\n",
      "{\"NOK_per_kWh\":0.28146,\"EUR_per_kWh\":0.02504,\"EXR\":11.2405,\"time_start\":\"2024-01-01T07:00:00+01:00\",\"time_end\":\"2024-01-01T08:00:00+01:00\"}\n",
      "{\"NOK_per_kWh\":0.29495,\"EUR_per_kWh\":0.02624,\"EXR\":11.2405,\"time_start\":\"2024-01-01T08:00:00+01:00\",\"time_end\":\"2024-01-01T09:00:00+01:00\"}\n",
      "{\"NOK_per_kWh\":0.36206,\"EUR_per_kWh\":0.03221,\"EXR\":11.2405,\"time_start\":\"2024-01-01T09:00:00+01:00\",\"time_end\":\"2024-01-01T10:00:00+01:00\"}\n",
      "{\"NOK_per_kWh\":0.53628,\"EUR_per_kWh\":0.04771,\"EXR\":11.2405,\"time_start\":\"2024-01-01T10:00:00+01:00\",\"time_end\":\"2024-01-01T11:00:00+01:00\"}\n",
      "{\"NOK_per_kWh\":0.59024,\"EUR_per_kWh\":0.05251,\"EXR\":11.2405,\"time_start\":\"2024-01-01T11:00:00+01:00\",\"time_end\":\"2024-01-01T12:00:00+01:00\"}\n",
      "{\"NOK_per_kWh\":0.63588,\"EUR_per_kWh\":0.05657,\"EXR\":11.2405,\"time_start\":\"2024-01-01T12:00:00+01:00\",\"time_end\":\"2024-01-01T13:00:00+01:00\"}\n",
      "{\"NOK_per_kWh\":0.67241,\"EUR_per_kWh\":0.05982,\"EXR\":11.2405,\"time_start\":\"2024-01-01T13:00:00+01:00\",\"time_end\":\"2024-01-01T14:00:00+01:00\"}\n",
      "{\"NOK_per_kWh\":0.69759,\"EUR_per_kWh\":0.06206,\"EXR\":11.2405,\"time_start\":\"2024-01-01T14:00:00+01:00\",\"time_end\":\"2024-01-01T15:00:00+01:00\"}\n",
      "{\"NOK_per_kWh\":0.70276,\"EUR_per_kWh\":0.06252,\"EXR\":11.2405,\"time_start\":\"2024-01-01T15:00:00+01:00\",\"time_end\":\"2024-01-01T16:00:00+01:00\"}\n",
      "{\"NOK_per_kWh\":0.71029,\"EUR_per_kWh\":0.06319,\"EXR\":11.2405,\"time_start\":\"2024-01-01T16:00:00+01:00\",\"time_end\":\"2024-01-01T17:00:00+01:00\"}\n",
      "{\"NOK_per_kWh\":0.73052,\"EUR_per_kWh\":0.06499,\"EXR\":11.2405,\"time_start\":\"2024-01-01T17:00:00+01:00\",\"time_end\":\"2024-01-01T18:00:00+01:00\"}\n",
      "{\"NOK_per_kWh\":0.71467,\"EUR_per_kWh\":0.06358,\"EXR\":11.2405,\"time_start\":\"2024-01-01T18:00:00+01:00\",\"time_end\":\"2024-01-01T19:00:00+01:00\"}\n",
      "{\"NOK_per_kWh\":0.70928,\"EUR_per_kWh\":0.0631,\"EXR\":11.2405,\"time_start\":\"2024-01-01T19:00:00+01:00\",\"time_end\":\"2024-01-01T20:00:00+01:00\"}\n",
      "{\"NOK_per_kWh\":0.6986,\"EUR_per_kWh\":0.06215,\"EXR\":11.2405,\"time_start\":\"2024-01-01T20:00:00+01:00\",\"time_end\":\"2024-01-01T21:00:00+01:00\"}\n",
      "{\"NOK_per_kWh\":0.65498,\"EUR_per_kWh\":0.05827,\"EXR\":11.2405,\"time_start\":\"2024-01-01T21:00:00+01:00\",\"time_end\":\"2024-01-01T22:00:00+01:00\"}\n",
      "{\"NOK_per_kWh\":0.59103,\"EUR_per_kWh\":0.05258,\"EXR\":11.2405,\"time_start\":\"2024-01-01T22:00:00+01:00\",\"time_end\":\"2024-01-01T23:00:00+01:00\"}\n",
      "{\"NOK_per_kWh\":0.49492,\"EUR_per_kWh\":0.04403,\"EXR\":11.2405,\"time_start\":\"2024-01-01T23:00:00+01:00\",\"time_end\":\"2024-01-02T00:00:00+01:00\"}\n"
     ]
    }
   ],
   "source": [
    "# Simulate a request to fetch weather data\n",
    "test_request = ElPriceRequest(city=\"Lillehammer\", state=\"Oslo\", date_query=\"2024-08-12\")\n",
    "\n",
    "# Fetch the data using the test request\n",
    "weather_data_response = fetch_electricity_prices(test_request)\n",
    "\n",
    "# Print the results\n",
    "for data in weather_data_response:\n",
    "    print(data.json())  # or just print(data) to see the Pydantic model representation"
   ]
  },
  {
   "cell_type": "code",
   "execution_count": 9,
   "metadata": {},
   "outputs": [],
   "source": [
    " from langchain_core.prompts import (\n",
    "     ChatPromptTemplate,\n",
    "     MessagesPlaceholder,\n",
    " )\n",
    " from langchain_core.runnables import RunnablePassthrough\n",
    " \n",
    " prompt = ChatPromptTemplate.from_messages(\n",
    "     [\n",
    "         (\n",
    "             \"system\",\n",
    "             \"You are a helpful assistant\",\n",
    "         ),\n",
    "         MessagesPlaceholder(variable_name=\"messages\", optional=True),\n",
    "     ]\n",
    " )\n",
    " \n",
    " \n",
    " \n",
    " # Create the tools to bind to the model\n",
    " #tools = [convert_to_openai_function(t) for t in tools]\n",
    " # tools.append(convert_to_openai_function(Response))\n",
    " \n",
    " # MODFIICATION: we're using bind_tools instead of bind_function\n",
    " model = {\"messages\": RunnablePassthrough()} | prompt | llm.bind_tools(tools)"
   ]
  },
  {
   "cell_type": "code",
   "execution_count": 10,
   "metadata": {},
   "outputs": [
    {
     "data": {
      "text/plain": [
       "AIMessage(content='', additional_kwargs={'tool_calls': [{'index': 0, 'id': 'call_pG9wsu3zstgtC4THdQO58SuH', 'function': {'arguments': '{\"city\":\"Oslo\",\"state\":\"Oslo\",\"date_query\":\"2024-08-12/2024-08-12\"}', 'name': 'Fetch_Weather_Data'}, 'type': 'function'}]}, response_metadata={'finish_reason': 'tool_calls', 'model_name': 'gpt-3.5-turbo-1106', 'system_fingerprint': 'fp_5aa43294a1'}, id='run-03babff7-0f90-4bf7-bce9-fd6e0d39a071-0', tool_calls=[{'name': 'Fetch_Weather_Data', 'args': {'city': 'Oslo', 'state': 'Oslo', 'date_query': '2024-08-12/2024-08-12'}, 'id': 'call_pG9wsu3zstgtC4THdQO58SuH', 'type': 'tool_call'}])"
      ]
     },
     "execution_count": 10,
     "metadata": {},
     "output_type": "execute_result"
    }
   ],
   "source": [
    "from langchain_core.messages import HumanMessage\n",
    "\n",
    "# Example usage of the model to retrieve data\n",
    "question = \"Can you show me the weather data for Oslo on 2024-08-12?\"\n",
    "\n",
    "# Properly format the input message as a HumanMessage\n",
    "input_message = HumanMessage(content=question)\n",
    "\n",
    "# Invoke the model\n",
    "payload = model.invoke([input_message])\n",
    "payload"
   ]
  },
  {
   "cell_type": "code",
   "execution_count": 11,
   "metadata": {},
   "outputs": [
    {
     "data": {
      "text/plain": [
       "[{'name': 'Fetch_Weather_Data',\n",
       "  'args': {'city': 'Oslo',\n",
       "   'state': 'Oslo',\n",
       "   'date_query': '2024-08-12/2024-08-12'},\n",
       "  'id': 'call_pG9wsu3zstgtC4THdQO58SuH',\n",
       "  'type': 'tool_call'}]"
      ]
     },
     "execution_count": 11,
     "metadata": {},
     "output_type": "execute_result"
    }
   ],
   "source": [
    "payload.tool_calls"
   ]
  },
  {
   "cell_type": "code",
   "execution_count": 12,
   "metadata": {},
   "outputs": [],
   "source": [
    "from typing import Annotated\n",
    "\n",
    "from typing_extensions import TypedDict\n",
    "\n",
    "from langgraph.graph import StateGraph, START\n",
    "from langgraph.graph.message import add_messages\n",
    "\n",
    "\n",
    "class State(TypedDict):\n",
    "    messages: Annotated[list, add_messages]\n",
    "\n",
    "\n",
    "graph_builder = StateGraph(State)"
   ]
  },
  {
   "cell_type": "code",
   "execution_count": 13,
   "metadata": {},
   "outputs": [],
   "source": [
    "# Modification: tell the LLM which tools it can call\n",
    "llm_with_tools = llm.bind_tools(tools)\n",
    "\n",
    "\n",
    "def chatbot(state: State):\n",
    "    return {\"messages\": [llm_with_tools.invoke(state[\"messages\"])]}\n",
    "\n",
    "\n",
    "graph_builder.add_node(\"chatbot\", chatbot)"
   ]
  },
  {
   "cell_type": "code",
   "execution_count": 14,
   "metadata": {},
   "outputs": [],
   "source": [
    "import json\n",
    "\n",
    "from langchain_core.messages import ToolMessage\n",
    "\n",
    "\n",
    "class BasicToolNode:\n",
    "    \"\"\"A node that runs the tools requested in the last AIMessage.\"\"\"\n",
    "\n",
    "    def __init__(self, tools: list) -> None:\n",
    "        self.tools_by_name = {tool.name: tool for tool in tools}\n",
    "\n",
    "    def __call__(self, inputs: dict):\n",
    "        if messages := inputs.get(\"messages\", []):\n",
    "            message = messages[-1]\n",
    "        else:\n",
    "            raise ValueError(\"No message found in input\")\n",
    "        \n",
    "        outputs = []\n",
    "        for tool_call in message.tool_calls:\n",
    "            print(f\"Invoking tool: {tool_call['name']} with args: {tool_call['args']}\")\n",
    "            tool_result = self.tools_by_name[tool_call[\"name\"]].invoke(tool_call[\"args\"])\n",
    "            print(f\"Tool result: {tool_result}\")\n",
    "            outputs.append(\n",
    "                ToolMessage(\n",
    "                    content=json.dumps(tool_result, default=str),  # Ensure JSON serializability\n",
    "                    name=tool_call[\"name\"],\n",
    "                    tool_call_id=tool_call[\"id\"],\n",
    "                )\n",
    "            )\n",
    "        return {\"messages\": outputs}\n",
    "\n",
    "# Ensure that 'tools' is the correct list of your tool instances\n",
    "tool_node = BasicToolNode(tools=tools)\n",
    "graph_builder.add_node(\"tools\", tool_node)"
   ]
  },
  {
   "cell_type": "code",
   "execution_count": 15,
   "metadata": {},
   "outputs": [],
   "source": [
    "from typing import Literal\n",
    "\n",
    "\n",
    "def route_tools(\n",
    "    state: State,\n",
    ") -> Literal[\"tools\", \"__end__\"]:\n",
    "    \"\"\"\n",
    "    Use in the conditional_edge to route to the ToolNode if the last message\n",
    "    has tool calls. Otherwise, route to the end.\n",
    "    \"\"\"\n",
    "    if isinstance(state, list):\n",
    "        ai_message = state[-1]\n",
    "    elif messages := state.get(\"messages\", []):\n",
    "        ai_message = messages[-1]\n",
    "    else:\n",
    "        raise ValueError(f\"No messages found in input state to tool_edge: {state}\")\n",
    "    if hasattr(ai_message, \"tool_calls\") and len(ai_message.tool_calls) > 0:\n",
    "        return \"tools\"\n",
    "    return \"__end__\"\n",
    "\n",
    "\n",
    "# The `tools_condition` function returns \"tools\" if the chatbot asks to use a tool, and \"__end__\" if\n",
    "# it is fine directly responding. This conditional routing defines the main agent loop.\n",
    "graph_builder.add_conditional_edges(\n",
    "    \"chatbot\",\n",
    "    route_tools,\n",
    "    # The following dictionary lets you tell the graph to interpret the condition's outputs as a specific node\n",
    "    # It defaults to the identity function, but if you\n",
    "    # want to use a node named something else apart from \"tools\",\n",
    "    # You can update the value of the dictionary to something else\n",
    "    # e.g., \"tools\": \"my_tools\"\n",
    "    {\"tools\": \"tools\", \"__end__\": \"__end__\"},\n",
    ")\n",
    "# Any time a tool is called, we return to the chatbot to decide the next step\n",
    "graph_builder.add_edge(\"tools\", \"chatbot\")\n",
    "graph_builder.add_edge(START, \"chatbot\")\n",
    "graph = graph_builder.compile()"
   ]
  },
  {
   "cell_type": "code",
   "execution_count": 16,
   "metadata": {},
   "outputs": [
    {
     "data": {
      "image/jpeg": "[encoded data removed]",
      "text/plain": [
       "<IPython.core.display.Image object>"
      ]
     },
     "metadata": {},
     "output_type": "display_data"
    }
   ],
   "source": [
    "\n",
    "from IPython.display import Image, display\n",
    "\n",
    "try:\n",
    "    display(Image(graph.get_graph().draw_mermaid_png()))\n",
    "except Exception:\n",
    "    # This requires some extra dependencies and is optional\n",
    "    pass"
   ]
  },
  {
   "cell_type": "code",
   "execution_count": 17,
   "metadata": {},
   "outputs": [
    {
     "name": "stdout",
     "output_type": "stream",
     "text": [
      "Assistant: \n",
      "Invoking tool: Fetch_Weather_Data with args: {'city': 'Oslo', 'state': 'Oslo', 'date_query': '2024-08-12/2024-08-12'}\n"
     ]
    },
    {
     "ename": "TypeError",
     "evalue": "fetch_weather_data() got an unexpected keyword argument 'city'",
     "output_type": "error",
     "traceback": [
      "\u001b[0;31m---------------------------------------------------------------------------\u001b[0m",
      "\u001b[0;31mTypeError\u001b[0m                                 Traceback (most recent call last)",
      "Cell \u001b[0;32mIn[17], line 5\u001b[0m\n\u001b[1;32m      1\u001b[0m \u001b[38;5;28;01mfrom\u001b[39;00m \u001b[38;5;21;01mlangchain_core\u001b[39;00m\u001b[38;5;21;01m.\u001b[39;00m\u001b[38;5;21;01mmessages\u001b[39;00m \u001b[38;5;28;01mimport\u001b[39;00m BaseMessage, ToolMessage\n\u001b[1;32m      3\u001b[0m user_input \u001b[38;5;241m=\u001b[39m \u001b[38;5;124m\"\u001b[39m\u001b[38;5;124mCan you get me the weatherdata for Oslo on 2024-08-12?\u001b[39m\u001b[38;5;124m\"\u001b[39m\n\u001b[0;32m----> 5\u001b[0m \u001b[38;5;28;43;01mfor\u001b[39;49;00m\u001b[43m \u001b[49m\u001b[43mevent\u001b[49m\u001b[43m \u001b[49m\u001b[38;5;129;43;01min\u001b[39;49;00m\u001b[43m \u001b[49m\u001b[43mgraph\u001b[49m\u001b[38;5;241;43m.\u001b[39;49m\u001b[43mstream\u001b[49m\u001b[43m(\u001b[49m\u001b[43m{\u001b[49m\u001b[38;5;124;43m\"\u001b[39;49m\u001b[38;5;124;43mmessages\u001b[39;49m\u001b[38;5;124;43m\"\u001b[39;49m\u001b[43m:\u001b[49m\u001b[43m \u001b[49m\u001b[43m[\u001b[49m\u001b[43m(\u001b[49m\u001b[38;5;124;43m\"\u001b[39;49m\u001b[38;5;124;43muser\u001b[39;49m\u001b[38;5;124;43m\"\u001b[39;49m\u001b[43m,\u001b[49m\u001b[43m \u001b[49m\u001b[43muser_input\u001b[49m\u001b[43m)\u001b[49m\u001b[43m]\u001b[49m\u001b[43m}\u001b[49m\u001b[43m)\u001b[49m\u001b[43m:\u001b[49m\n\u001b[1;32m      6\u001b[0m \u001b[43m    \u001b[49m\u001b[38;5;28;43;01mfor\u001b[39;49;00m\u001b[43m \u001b[49m\u001b[43mvalue\u001b[49m\u001b[43m \u001b[49m\u001b[38;5;129;43;01min\u001b[39;49;00m\u001b[43m \u001b[49m\u001b[43mevent\u001b[49m\u001b[38;5;241;43m.\u001b[39;49m\u001b[43mvalues\u001b[49m\u001b[43m(\u001b[49m\u001b[43m)\u001b[49m\u001b[43m:\u001b[49m\n\u001b[1;32m      7\u001b[0m \u001b[43m        \u001b[49m\u001b[38;5;28;43;01mif\u001b[39;49;00m\u001b[43m \u001b[49m\u001b[38;5;28;43misinstance\u001b[39;49m\u001b[43m(\u001b[49m\u001b[43mvalue\u001b[49m\u001b[43m[\u001b[49m\u001b[38;5;124;43m\"\u001b[39;49m\u001b[38;5;124;43mmessages\u001b[39;49m\u001b[38;5;124;43m\"\u001b[39;49m\u001b[43m]\u001b[49m\u001b[43m[\u001b[49m\u001b[38;5;241;43m-\u001b[39;49m\u001b[38;5;241;43m1\u001b[39;49m\u001b[43m]\u001b[49m\u001b[43m,\u001b[49m\u001b[43m \u001b[49m\u001b[43mToolMessage\u001b[49m\u001b[43m)\u001b[49m\u001b[43m:\u001b[49m\n\u001b[1;32m      8\u001b[0m \u001b[43m            \u001b[49m\u001b[38;5;66;43;03m# ToolMessage contains the tool's result\u001b[39;49;00m\n",
      "File \u001b[0;32m~/Projects/SQL_pydantic/.myvenv/lib/python3.11/site-packages/langgraph/pregel/__init__.py:997\u001b[0m, in \u001b[0;36mPregel.stream\u001b[0;34m(self, input, config, stream_mode, output_keys, interrupt_before, interrupt_after, debug)\u001b[0m\n\u001b[1;32m    994\u001b[0m         \u001b[38;5;28;01mdel\u001b[39;00m fut, task\n\u001b[1;32m    996\u001b[0m \u001b[38;5;66;03m# panic on failure or timeout\u001b[39;00m\n\u001b[0;32m--> 997\u001b[0m \u001b[43m_panic_or_proceed\u001b[49m\u001b[43m(\u001b[49m\u001b[43mdone\u001b[49m\u001b[43m,\u001b[49m\u001b[43m \u001b[49m\u001b[43minflight\u001b[49m\u001b[43m,\u001b[49m\u001b[43m \u001b[49m\u001b[43mloop\u001b[49m\u001b[38;5;241;43m.\u001b[39;49m\u001b[43mstep\u001b[49m\u001b[43m)\u001b[49m\n\u001b[1;32m    998\u001b[0m \u001b[38;5;66;03m# don't keep futures around in memory longer than needed\u001b[39;00m\n\u001b[1;32m    999\u001b[0m \u001b[38;5;28;01mdel\u001b[39;00m done, inflight, futures\n",
      "File \u001b[0;32m~/Projects/SQL_pydantic/.myvenv/lib/python3.11/site-packages/langgraph/pregel/__init__.py:1398\u001b[0m, in \u001b[0;36m_panic_or_proceed\u001b[0;34m(done, inflight, step, timeout_exc_cls)\u001b[0m\n\u001b[1;32m   1396\u001b[0m             inflight\u001b[38;5;241m.\u001b[39mpop()\u001b[38;5;241m.\u001b[39mcancel()\n\u001b[1;32m   1397\u001b[0m         \u001b[38;5;66;03m# raise the exception\u001b[39;00m\n\u001b[0;32m-> 1398\u001b[0m         \u001b[38;5;28;01mraise\u001b[39;00m exc\n\u001b[1;32m   1400\u001b[0m \u001b[38;5;28;01mif\u001b[39;00m inflight:\n\u001b[1;32m   1401\u001b[0m     \u001b[38;5;66;03m# if we got here means we timed out\u001b[39;00m\n\u001b[1;32m   1402\u001b[0m     \u001b[38;5;28;01mwhile\u001b[39;00m inflight:\n\u001b[1;32m   1403\u001b[0m         \u001b[38;5;66;03m# cancel all pending tasks\u001b[39;00m\n",
      "File \u001b[0;32m~/Projects/SQL_pydantic/.myvenv/lib/python3.11/site-packages/langgraph/pregel/executor.py:60\u001b[0m, in \u001b[0;36mBackgroundExecutor.done\u001b[0;34m(self, task)\u001b[0m\n\u001b[1;32m     58\u001b[0m \u001b[38;5;28;01mdef\u001b[39;00m \u001b[38;5;21mdone\u001b[39m(\u001b[38;5;28mself\u001b[39m, task: concurrent\u001b[38;5;241m.\u001b[39mfutures\u001b[38;5;241m.\u001b[39mFuture) \u001b[38;5;241m-\u001b[39m\u001b[38;5;241m>\u001b[39m \u001b[38;5;28;01mNone\u001b[39;00m:\n\u001b[1;32m     59\u001b[0m     \u001b[38;5;28;01mtry\u001b[39;00m:\n\u001b[0;32m---> 60\u001b[0m         \u001b[43mtask\u001b[49m\u001b[38;5;241;43m.\u001b[39;49m\u001b[43mresult\u001b[49m\u001b[43m(\u001b[49m\u001b[43m)\u001b[49m\n\u001b[1;32m     61\u001b[0m     \u001b[38;5;28;01mexcept\u001b[39;00m GraphInterrupt:\n\u001b[1;32m     62\u001b[0m         \u001b[38;5;66;03m# This exception is an interruption signal, not an error\u001b[39;00m\n\u001b[1;32m     63\u001b[0m         \u001b[38;5;66;03m# so we don't want to re-raise it on exit\u001b[39;00m\n\u001b[1;32m     64\u001b[0m         \u001b[38;5;28mself\u001b[39m\u001b[38;5;241m.\u001b[39mtasks\u001b[38;5;241m.\u001b[39mpop(task)\n",
      "File \u001b[0;32m/usr/lib/python3.11/concurrent/futures/_base.py:449\u001b[0m, in \u001b[0;36mFuture.result\u001b[0;34m(self, timeout)\u001b[0m\n\u001b[1;32m    447\u001b[0m     \u001b[38;5;28;01mraise\u001b[39;00m CancelledError()\n\u001b[1;32m    448\u001b[0m \u001b[38;5;28;01melif\u001b[39;00m \u001b[38;5;28mself\u001b[39m\u001b[38;5;241m.\u001b[39m_state \u001b[38;5;241m==\u001b[39m FINISHED:\n\u001b[0;32m--> 449\u001b[0m     \u001b[38;5;28;01mreturn\u001b[39;00m \u001b[38;5;28;43mself\u001b[39;49m\u001b[38;5;241;43m.\u001b[39;49m\u001b[43m__get_result\u001b[49m\u001b[43m(\u001b[49m\u001b[43m)\u001b[49m\n\u001b[1;32m    451\u001b[0m \u001b[38;5;28mself\u001b[39m\u001b[38;5;241m.\u001b[39m_condition\u001b[38;5;241m.\u001b[39mwait(timeout)\n\u001b[1;32m    453\u001b[0m \u001b[38;5;28;01mif\u001b[39;00m \u001b[38;5;28mself\u001b[39m\u001b[38;5;241m.\u001b[39m_state \u001b[38;5;129;01min\u001b[39;00m [CANCELLED, CANCELLED_AND_NOTIFIED]:\n",
      "File \u001b[0;32m/usr/lib/python3.11/concurrent/futures/_base.py:401\u001b[0m, in \u001b[0;36mFuture.__get_result\u001b[0;34m(self)\u001b[0m\n\u001b[1;32m    399\u001b[0m \u001b[38;5;28;01mif\u001b[39;00m \u001b[38;5;28mself\u001b[39m\u001b[38;5;241m.\u001b[39m_exception:\n\u001b[1;32m    400\u001b[0m     \u001b[38;5;28;01mtry\u001b[39;00m:\n\u001b[0;32m--> 401\u001b[0m         \u001b[38;5;28;01mraise\u001b[39;00m \u001b[38;5;28mself\u001b[39m\u001b[38;5;241m.\u001b[39m_exception\n\u001b[1;32m    402\u001b[0m     \u001b[38;5;28;01mfinally\u001b[39;00m:\n\u001b[1;32m    403\u001b[0m         \u001b[38;5;66;03m# Break a reference cycle with the exception in self._exception\u001b[39;00m\n\u001b[1;32m    404\u001b[0m         \u001b[38;5;28mself\u001b[39m \u001b[38;5;241m=\u001b[39m \u001b[38;5;28;01mNone\u001b[39;00m\n",
      "File \u001b[0;32m/usr/lib/python3.11/concurrent/futures/thread.py:58\u001b[0m, in \u001b[0;36m_WorkItem.run\u001b[0;34m(self)\u001b[0m\n\u001b[1;32m     55\u001b[0m     \u001b[38;5;28;01mreturn\u001b[39;00m\n\u001b[1;32m     57\u001b[0m \u001b[38;5;28;01mtry\u001b[39;00m:\n\u001b[0;32m---> 58\u001b[0m     result \u001b[38;5;241m=\u001b[39m \u001b[38;5;28;43mself\u001b[39;49m\u001b[38;5;241;43m.\u001b[39;49m\u001b[43mfn\u001b[49m\u001b[43m(\u001b[49m\u001b[38;5;241;43m*\u001b[39;49m\u001b[38;5;28;43mself\u001b[39;49m\u001b[38;5;241;43m.\u001b[39;49m\u001b[43margs\u001b[49m\u001b[43m,\u001b[49m\u001b[43m \u001b[49m\u001b[38;5;241;43m*\u001b[39;49m\u001b[38;5;241;43m*\u001b[39;49m\u001b[38;5;28;43mself\u001b[39;49m\u001b[38;5;241;43m.\u001b[39;49m\u001b[43mkwargs\u001b[49m\u001b[43m)\u001b[49m\n\u001b[1;32m     59\u001b[0m \u001b[38;5;28;01mexcept\u001b[39;00m \u001b[38;5;167;01mBaseException\u001b[39;00m \u001b[38;5;28;01mas\u001b[39;00m exc:\n\u001b[1;32m     60\u001b[0m     \u001b[38;5;28mself\u001b[39m\u001b[38;5;241m.\u001b[39mfuture\u001b[38;5;241m.\u001b[39mset_exception(exc)\n",
      "File \u001b[0;32m~/Projects/SQL_pydantic/.myvenv/lib/python3.11/site-packages/langgraph/pregel/retry.py:25\u001b[0m, in \u001b[0;36mrun_with_retry\u001b[0;34m(task, retry_policy)\u001b[0m\n\u001b[1;32m     23\u001b[0m task\u001b[38;5;241m.\u001b[39mwrites\u001b[38;5;241m.\u001b[39mclear()\n\u001b[1;32m     24\u001b[0m \u001b[38;5;66;03m# run the task\u001b[39;00m\n\u001b[0;32m---> 25\u001b[0m \u001b[43mtask\u001b[49m\u001b[38;5;241;43m.\u001b[39;49m\u001b[43mproc\u001b[49m\u001b[38;5;241;43m.\u001b[39;49m\u001b[43minvoke\u001b[49m\u001b[43m(\u001b[49m\u001b[43mtask\u001b[49m\u001b[38;5;241;43m.\u001b[39;49m\u001b[43minput\u001b[49m\u001b[43m,\u001b[49m\u001b[43m \u001b[49m\u001b[43mtask\u001b[49m\u001b[38;5;241;43m.\u001b[39;49m\u001b[43mconfig\u001b[49m\u001b[43m)\u001b[49m\n\u001b[1;32m     26\u001b[0m \u001b[38;5;66;03m# if successful, end\u001b[39;00m\n\u001b[1;32m     27\u001b[0m \u001b[38;5;28;01mbreak\u001b[39;00m\n",
      "File \u001b[0;32m~/Projects/SQL_pydantic/.myvenv/lib/python3.11/site-packages/langchain_core/runnables/base.py:2876\u001b[0m, in \u001b[0;36mRunnableSequence.invoke\u001b[0;34m(self, input, config, **kwargs)\u001b[0m\n\u001b[1;32m   2874\u001b[0m context\u001b[38;5;241m.\u001b[39mrun(_set_config_context, config)\n\u001b[1;32m   2875\u001b[0m \u001b[38;5;28;01mif\u001b[39;00m i \u001b[38;5;241m==\u001b[39m \u001b[38;5;241m0\u001b[39m:\n\u001b[0;32m-> 2876\u001b[0m     \u001b[38;5;28minput\u001b[39m \u001b[38;5;241m=\u001b[39m \u001b[43mcontext\u001b[49m\u001b[38;5;241;43m.\u001b[39;49m\u001b[43mrun\u001b[49m\u001b[43m(\u001b[49m\u001b[43mstep\u001b[49m\u001b[38;5;241;43m.\u001b[39;49m\u001b[43minvoke\u001b[49m\u001b[43m,\u001b[49m\u001b[43m \u001b[49m\u001b[38;5;28;43minput\u001b[39;49m\u001b[43m,\u001b[49m\u001b[43m \u001b[49m\u001b[43mconfig\u001b[49m\u001b[43m,\u001b[49m\u001b[43m \u001b[49m\u001b[38;5;241;43m*\u001b[39;49m\u001b[38;5;241;43m*\u001b[39;49m\u001b[43mkwargs\u001b[49m\u001b[43m)\u001b[49m\n\u001b[1;32m   2877\u001b[0m \u001b[38;5;28;01melse\u001b[39;00m:\n\u001b[1;32m   2878\u001b[0m     \u001b[38;5;28minput\u001b[39m \u001b[38;5;241m=\u001b[39m context\u001b[38;5;241m.\u001b[39mrun(step\u001b[38;5;241m.\u001b[39minvoke, \u001b[38;5;28minput\u001b[39m, config)\n",
      "File \u001b[0;32m~/Projects/SQL_pydantic/.myvenv/lib/python3.11/site-packages/langgraph/utils.py:102\u001b[0m, in \u001b[0;36mRunnableCallable.invoke\u001b[0;34m(self, input, config, **kwargs)\u001b[0m\n\u001b[1;32m    100\u001b[0m     \u001b[38;5;28;01mif\u001b[39;00m accepts_config(\u001b[38;5;28mself\u001b[39m\u001b[38;5;241m.\u001b[39mfunc):\n\u001b[1;32m    101\u001b[0m         kwargs[\u001b[38;5;124m\"\u001b[39m\u001b[38;5;124mconfig\u001b[39m\u001b[38;5;124m\"\u001b[39m] \u001b[38;5;241m=\u001b[39m config\n\u001b[0;32m--> 102\u001b[0m     ret \u001b[38;5;241m=\u001b[39m \u001b[43mcontext\u001b[49m\u001b[38;5;241;43m.\u001b[39;49m\u001b[43mrun\u001b[49m\u001b[43m(\u001b[49m\u001b[38;5;28;43mself\u001b[39;49m\u001b[38;5;241;43m.\u001b[39;49m\u001b[43mfunc\u001b[49m\u001b[43m,\u001b[49m\u001b[43m \u001b[49m\u001b[38;5;28;43minput\u001b[39;49m\u001b[43m,\u001b[49m\u001b[43m \u001b[49m\u001b[38;5;241;43m*\u001b[39;49m\u001b[38;5;241;43m*\u001b[39;49m\u001b[43mkwargs\u001b[49m\u001b[43m)\u001b[49m\n\u001b[1;32m    103\u001b[0m \u001b[38;5;28;01mif\u001b[39;00m \u001b[38;5;28misinstance\u001b[39m(ret, Runnable) \u001b[38;5;129;01mand\u001b[39;00m \u001b[38;5;28mself\u001b[39m\u001b[38;5;241m.\u001b[39mrecurse:\n\u001b[1;32m    104\u001b[0m     \u001b[38;5;28;01mreturn\u001b[39;00m ret\u001b[38;5;241m.\u001b[39minvoke(\u001b[38;5;28minput\u001b[39m, config)\n",
      "Cell \u001b[0;32mIn[14], line 21\u001b[0m, in \u001b[0;36mBasicToolNode.__call__\u001b[0;34m(self, inputs)\u001b[0m\n\u001b[1;32m     19\u001b[0m \u001b[38;5;28;01mfor\u001b[39;00m tool_call \u001b[38;5;129;01min\u001b[39;00m message\u001b[38;5;241m.\u001b[39mtool_calls:\n\u001b[1;32m     20\u001b[0m     \u001b[38;5;28mprint\u001b[39m(\u001b[38;5;124mf\u001b[39m\u001b[38;5;124m\"\u001b[39m\u001b[38;5;124mInvoking tool: \u001b[39m\u001b[38;5;132;01m{\u001b[39;00mtool_call[\u001b[38;5;124m'\u001b[39m\u001b[38;5;124mname\u001b[39m\u001b[38;5;124m'\u001b[39m]\u001b[38;5;132;01m}\u001b[39;00m\u001b[38;5;124m with args: \u001b[39m\u001b[38;5;132;01m{\u001b[39;00mtool_call[\u001b[38;5;124m'\u001b[39m\u001b[38;5;124margs\u001b[39m\u001b[38;5;124m'\u001b[39m]\u001b[38;5;132;01m}\u001b[39;00m\u001b[38;5;124m\"\u001b[39m)\n\u001b[0;32m---> 21\u001b[0m     tool_result \u001b[38;5;241m=\u001b[39m \u001b[38;5;28;43mself\u001b[39;49m\u001b[38;5;241;43m.\u001b[39;49m\u001b[43mtools_by_name\u001b[49m\u001b[43m[\u001b[49m\u001b[43mtool_call\u001b[49m\u001b[43m[\u001b[49m\u001b[38;5;124;43m\"\u001b[39;49m\u001b[38;5;124;43mname\u001b[39;49m\u001b[38;5;124;43m\"\u001b[39;49m\u001b[43m]\u001b[49m\u001b[43m]\u001b[49m\u001b[38;5;241;43m.\u001b[39;49m\u001b[43minvoke\u001b[49m\u001b[43m(\u001b[49m\u001b[43mtool_call\u001b[49m\u001b[43m[\u001b[49m\u001b[38;5;124;43m\"\u001b[39;49m\u001b[38;5;124;43margs\u001b[39;49m\u001b[38;5;124;43m\"\u001b[39;49m\u001b[43m]\u001b[49m\u001b[43m)\u001b[49m\n\u001b[1;32m     22\u001b[0m     \u001b[38;5;28mprint\u001b[39m(\u001b[38;5;124mf\u001b[39m\u001b[38;5;124m\"\u001b[39m\u001b[38;5;124mTool result: \u001b[39m\u001b[38;5;132;01m{\u001b[39;00mtool_result\u001b[38;5;132;01m}\u001b[39;00m\u001b[38;5;124m\"\u001b[39m)\n\u001b[1;32m     23\u001b[0m     outputs\u001b[38;5;241m.\u001b[39mappend(\n\u001b[1;32m     24\u001b[0m         ToolMessage(\n\u001b[1;32m     25\u001b[0m             content\u001b[38;5;241m=\u001b[39mjson\u001b[38;5;241m.\u001b[39mdumps(tool_result, default\u001b[38;5;241m=\u001b[39m\u001b[38;5;28mstr\u001b[39m),  \u001b[38;5;66;03m# Ensure JSON serializability\u001b[39;00m\n\u001b[0;32m   (...)\u001b[0m\n\u001b[1;32m     28\u001b[0m         )\n\u001b[1;32m     29\u001b[0m     )\n",
      "File \u001b[0;32m~/Projects/SQL_pydantic/.myvenv/lib/python3.11/site-packages/langchain_core/tools.py:433\u001b[0m, in \u001b[0;36mBaseTool.invoke\u001b[0;34m(self, input, config, **kwargs)\u001b[0m\n\u001b[1;32m    426\u001b[0m \u001b[38;5;28;01mdef\u001b[39;00m \u001b[38;5;21minvoke\u001b[39m(\n\u001b[1;32m    427\u001b[0m     \u001b[38;5;28mself\u001b[39m,\n\u001b[1;32m    428\u001b[0m     \u001b[38;5;28minput\u001b[39m: Union[\u001b[38;5;28mstr\u001b[39m, Dict, ToolCall],\n\u001b[1;32m    429\u001b[0m     config: Optional[RunnableConfig] \u001b[38;5;241m=\u001b[39m \u001b[38;5;28;01mNone\u001b[39;00m,\n\u001b[1;32m    430\u001b[0m     \u001b[38;5;241m*\u001b[39m\u001b[38;5;241m*\u001b[39mkwargs: Any,\n\u001b[1;32m    431\u001b[0m ) \u001b[38;5;241m-\u001b[39m\u001b[38;5;241m>\u001b[39m Any:\n\u001b[1;32m    432\u001b[0m     tool_input, kwargs \u001b[38;5;241m=\u001b[39m _prep_run_args(\u001b[38;5;28minput\u001b[39m, config, \u001b[38;5;241m*\u001b[39m\u001b[38;5;241m*\u001b[39mkwargs)\n\u001b[0;32m--> 433\u001b[0m     \u001b[38;5;28;01mreturn\u001b[39;00m \u001b[38;5;28;43mself\u001b[39;49m\u001b[38;5;241;43m.\u001b[39;49m\u001b[43mrun\u001b[49m\u001b[43m(\u001b[49m\u001b[43mtool_input\u001b[49m\u001b[43m,\u001b[49m\u001b[43m \u001b[49m\u001b[38;5;241;43m*\u001b[39;49m\u001b[38;5;241;43m*\u001b[39;49m\u001b[43mkwargs\u001b[49m\u001b[43m)\u001b[49m\n",
      "File \u001b[0;32m~/Projects/SQL_pydantic/.myvenv/lib/python3.11/site-packages/langchain_core/tools.py:621\u001b[0m, in \u001b[0;36mBaseTool.run\u001b[0;34m(self, tool_input, verbose, start_color, color, callbacks, tags, metadata, run_name, run_id, config, tool_call_id, **kwargs)\u001b[0m\n\u001b[1;32m    619\u001b[0m \u001b[38;5;28;01mif\u001b[39;00m error_to_raise:\n\u001b[1;32m    620\u001b[0m     run_manager\u001b[38;5;241m.\u001b[39mon_tool_error(error_to_raise)\n\u001b[0;32m--> 621\u001b[0m     \u001b[38;5;28;01mraise\u001b[39;00m error_to_raise\n\u001b[1;32m    622\u001b[0m output \u001b[38;5;241m=\u001b[39m _format_output(content, artifact, tool_call_id, \u001b[38;5;28mself\u001b[39m\u001b[38;5;241m.\u001b[39mname, status)\n\u001b[1;32m    623\u001b[0m run_manager\u001b[38;5;241m.\u001b[39mon_tool_end(output, color\u001b[38;5;241m=\u001b[39mcolor, name\u001b[38;5;241m=\u001b[39m\u001b[38;5;28mself\u001b[39m\u001b[38;5;241m.\u001b[39mname, \u001b[38;5;241m*\u001b[39m\u001b[38;5;241m*\u001b[39mkwargs)\n",
      "File \u001b[0;32m~/Projects/SQL_pydantic/.myvenv/lib/python3.11/site-packages/langchain_core/tools.py:590\u001b[0m, in \u001b[0;36mBaseTool.run\u001b[0;34m(self, tool_input, verbose, start_color, color, callbacks, tags, metadata, run_name, run_id, config, tool_call_id, **kwargs)\u001b[0m\n\u001b[1;32m    588\u001b[0m \u001b[38;5;28;01mif\u001b[39;00m config_param \u001b[38;5;241m:=\u001b[39m _get_runnable_config_param(\u001b[38;5;28mself\u001b[39m\u001b[38;5;241m.\u001b[39m_run):\n\u001b[1;32m    589\u001b[0m     tool_kwargs[config_param] \u001b[38;5;241m=\u001b[39m config\n\u001b[0;32m--> 590\u001b[0m response \u001b[38;5;241m=\u001b[39m \u001b[43mcontext\u001b[49m\u001b[38;5;241;43m.\u001b[39;49m\u001b[43mrun\u001b[49m\u001b[43m(\u001b[49m\u001b[38;5;28;43mself\u001b[39;49m\u001b[38;5;241;43m.\u001b[39;49m\u001b[43m_run\u001b[49m\u001b[43m,\u001b[49m\u001b[43m \u001b[49m\u001b[38;5;241;43m*\u001b[39;49m\u001b[43mtool_args\u001b[49m\u001b[43m,\u001b[49m\u001b[43m \u001b[49m\u001b[38;5;241;43m*\u001b[39;49m\u001b[38;5;241;43m*\u001b[39;49m\u001b[43mtool_kwargs\u001b[49m\u001b[43m)\u001b[49m\n\u001b[1;32m    591\u001b[0m \u001b[38;5;28;01mif\u001b[39;00m \u001b[38;5;28mself\u001b[39m\u001b[38;5;241m.\u001b[39mresponse_format \u001b[38;5;241m==\u001b[39m \u001b[38;5;124m\"\u001b[39m\u001b[38;5;124mcontent_and_artifact\u001b[39m\u001b[38;5;124m\"\u001b[39m:\n\u001b[1;32m    592\u001b[0m     \u001b[38;5;28;01mif\u001b[39;00m \u001b[38;5;129;01mnot\u001b[39;00m \u001b[38;5;28misinstance\u001b[39m(response, \u001b[38;5;28mtuple\u001b[39m) \u001b[38;5;129;01mor\u001b[39;00m \u001b[38;5;28mlen\u001b[39m(response) \u001b[38;5;241m!=\u001b[39m \u001b[38;5;241m2\u001b[39m:\n",
      "File \u001b[0;32m~/Projects/SQL_pydantic/.myvenv/lib/python3.11/site-packages/langchain_core/tools.py:935\u001b[0m, in \u001b[0;36mStructuredTool._run\u001b[0;34m(self, config, run_manager, *args, **kwargs)\u001b[0m\n\u001b[1;32m    933\u001b[0m     \u001b[38;5;28;01mif\u001b[39;00m config_param \u001b[38;5;241m:=\u001b[39m _get_runnable_config_param(\u001b[38;5;28mself\u001b[39m\u001b[38;5;241m.\u001b[39mfunc):\n\u001b[1;32m    934\u001b[0m         kwargs[config_param] \u001b[38;5;241m=\u001b[39m config\n\u001b[0;32m--> 935\u001b[0m     \u001b[38;5;28;01mreturn\u001b[39;00m \u001b[38;5;28;43mself\u001b[39;49m\u001b[38;5;241;43m.\u001b[39;49m\u001b[43mfunc\u001b[49m\u001b[43m(\u001b[49m\u001b[38;5;241;43m*\u001b[39;49m\u001b[43margs\u001b[49m\u001b[43m,\u001b[49m\u001b[43m \u001b[49m\u001b[38;5;241;43m*\u001b[39;49m\u001b[38;5;241;43m*\u001b[39;49m\u001b[43mkwargs\u001b[49m\u001b[43m)\u001b[49m\n\u001b[1;32m    936\u001b[0m \u001b[38;5;28;01mraise\u001b[39;00m \u001b[38;5;167;01mNotImplementedError\u001b[39;00m(\u001b[38;5;124m\"\u001b[39m\u001b[38;5;124mStructuredTool does not support sync invocation.\u001b[39m\u001b[38;5;124m\"\u001b[39m)\n",
      "\u001b[0;31mTypeError\u001b[0m: fetch_weather_data() got an unexpected keyword argument 'city'"
     ]
    }
   ],
   "source": [
    "from langchain_core.messages import BaseMessage, ToolMessage\n",
    "\n",
    "user_input = \"Can you get me the weatherdata for Oslo on 2024-08-12?\"\n",
    "\n",
    "for event in graph.stream({\"messages\": [(\"user\", user_input)]}):\n",
    "    for value in event.values():\n",
    "        if isinstance(value[\"messages\"][-1], ToolMessage):\n",
    "            # ToolMessage contains the tool's result\n",
    "            tool_result = json.loads(value[\"messages\"][-1].content)\n",
    "            print(\"Tool Result:\", tool_result)\n",
    "        elif isinstance(value[\"messages\"][-1], BaseMessage):\n",
    "            print(\"Assistant:\", value[\"messages\"][-1].content)"
   ]
  },
  {
   "cell_type": "code",
   "execution_count": null,
   "metadata": {},
   "outputs": [],
   "source": [
    "from typing import Annotated\n",
    "from typing_extensions import TypedDict\n",
    "from langgraph.graph.message import AnyMessage, add_messages\n",
    "import uuid"
   ]
  }
 ],
 "metadata": {
  "kernelspec": {
   "display_name": "Python (myenv)",
   "language": "python",
   "name": ".myenv"
  }
 },
 "nbformat": 4,
 "nbformat_minor": 2
}
