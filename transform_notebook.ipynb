{
 "cells": [
  {
   "cell_type": "markdown",
   "metadata": {},
   "source": [
    "# Dokumentasjon av datastrukturering skript\n",
    "\n",
    "Dette dokumentet beskriver implementeringen av en datastruktureringsfunksjon, `transform(input)`, som aggregerer og behandler data fra flere datakilder. Funksjonen er designet for å håndtere komplekse dataoperasjoner, inkludert spørringer, gruppering og aggregering av data for analyseformål.\n",
    "\n",
    "## Innholdsfortegnelse\n",
    "- [Funksjonsoversikt](#funksjonsoversikt)\n",
    "- [Input-egenskaper](#input-egenskaper)\n",
    "- [Funksjonskomponenter](#funksjonskomponenter)\n",
    "  - [Initiering og input-validering](#initiering-og-input-validering)\n",
    "  - [Konstruksjon av datospørringer](#konstruksjon-av-datospørringer)\n",
    "  - [Hjelpefunksjoner](#hjelpefunksjoner)\n",
    "    - [getFieldLabel](#getfieldlabel)\n",
    "    - [getDistinctValues](#getdistinctvalues)\n",
    "    - [countDistinctEmployeesAndSumWorkingHours](#countdistinctemployeesandsumworkinghours)\n",
    "  - [Dataaggregering](#dataaggregering)\n",
    "  - [Datakilder og endelig aggregering](#datakilder-og-endelig-aggregering)\n",
    "  - [Forberedelse av HTML-tabell](#forberedelse-av-html-tabell)\n",
    "- [Returstruktur](#returstruktur)\n",
    "\n",
    "## Funksjonsoversikt\n",
    "\n",
    "Funksjonen `transform(input)` er ansvarlig for å aggregerer data fra ulike datakilder basert på oppgitte input-parametere. Funksjonen håndterer følgende hovedoppgaver:\n",
    "1. Validering av nødvendige input-egenskaper.\n",
    "2. Konstruksjon av datospørringer for filtrering av data innenfor et spesifisert tidsintervall.\n",
    "3. Spørring og aggregering av data basert på rad- og kolonnefelt.\n",
    "4. Telling av distinkte ansatte og summere arbeidstimer for spesifikke datakilder.\n",
    "5. Forberedelse av data for presentasjon i et HTML-tabellformat.\n",
    "\n",
    "## Input-egenskaper\n",
    "\n",
    "Funksjonen forventer følgende input-egenskaper:\n",
    "\n",
    "- **table**: Primær datakilde.\n",
    "- **table2**: Sekundær datakilde (valgfri).\n",
    "- **table3**: Tertiær datakilde (valgfri).\n",
    "- **table4**: Kvartær datakilde (valgfri).\n",
    "- **table5**: Kvintær datakilde (valgfri).\n",
    "- **rowField**: Felt som brukes for radgruppering.\n",
    "- **columnField**: Felt som brukes for kolonnegruppering.\n",
    "- **encodedQuery1**: Kodet spørring for filtrering av data i primær datakilde.\n",
    "- **encodedQuery2**: Kodet spørring for filtrering av data i sekundær datakilde (valgfri).\n",
    "- **encodedQuery3**: Kodet spørring for filtrering av data i tertiær datakilde (valgfri).\n",
    "- **encodedQuery4**: Kodet spørring for filtrering av data i kvartær datakilde (valgfri).\n",
    "- **encodedQuery5**: Kodet spørring for filtrering av data i kvintær datakilde (valgfri).\n",
    "- **returnPercentage**: Boolsk flagg som indikerer om det skal returneres prosentverdier.\n",
    "- **startOfInterval**: Startdato for intervallet for filtrering av data.\n",
    "- **endOfInterval**: Sluttdato for intervallet for filtrering av data.\n",
    "\n",
    "## Funksjonskomponenter\n",
    "\n",
    "### Initiering og input-validering\n",
    "\n",
    "Funksjonen starter med å trekke ut og initiere input-egenskapene, med standardverdier der det er aktuelt. Deretter sjekker den for tilstedeværelse av nødvendige egenskaper (`table` og `rowField`). Hvis noen av disse egenskapene mangler, kaster funksjonen en feil.\n",
    "\n",
    "```javascript\n",
    "// Sørg for at nødvendige egenskaper er gitt\n",
    "if (!dataSource1 || !rowField) {\n",
    "    throw new Error(\"Manglende nødvendige input-egenskaper\");\n",
    "}\n"
   ]
  },
  {
   "cell_type": "code",
   "execution_count": null,
   "metadata": {},
   "outputs": [],
   "source": []
  },
  {
   "cell_type": "code",
   "execution_count": null,
   "metadata": {},
   "outputs": [],
   "source": [
    "function getDistinctValues(fieldName, dataSource, encodedQuery, dateQuery) {\n",
    "    const gr = new GlideAggregate(dataSource);\n",
    "    gr.addAggregate('COUNT');\n",
    "    gr.groupBy(fieldName);\n",
    "    if (encodedQuery) gr.addEncodedQuery(encodedQuery);\n",
    "    gr.addEncodedQuery(dateQuery);\n",
    "    gr.query();\n",
    "\n",
    "    const values = [];\n",
    "    while (gr.next()) {\n",
    "        const value = gr.getDisplayValue(fieldName) || gr.getValue(fieldName) || \"(empty)\";\n",
    "        values.push(value);\n",
    "    }\n",
    "    return values;\n",
    "}\n"
   ]
  },
  {
   "cell_type": "markdown",
   "metadata": {},
   "source": [
    "## Datospørringer\n",
    "\n",
    "Funksjonen konstruerer datospørringer basert på egenskapene startOfInterval og endOfInterval. Disse spørringene brukes til å filtrere data innenfor det spesifiserte tidsrommet."
   ]
  },
  {
   "cell_type": "code",
   "execution_count": null,
   "metadata": {},
   "outputs": [],
   "source": [
    "// Konstruksjon av datospørringene\n",
    "const fravarDateQuery = [\n",
    "    `fromdateON${startOfInterval}@${startOfInterval}@${endOfInterval}`,\n",
    "    `ORtodateON${startOfInterval}@${startOfInterval}@${endOfInterval}`,\n",
    "    `ORtodate>${endOfInterval}`\n",
    "].join('^');\n",
    "\n",
    "const timerDateQuery = `assignmentdateON${startOfInterval}@${startOfInterval}@${endOfInterval}`;\n"
   ]
  },
  {
   "cell_type": "markdown",
   "metadata": {},
   "source": [
    "# Hjelpefunksjoner"
   ]
  },
  {
   "cell_type": "markdown",
   "metadata": {},
   "source": [
    "## Hente navn på felt"
   ]
  },
  {
   "cell_type": "markdown",
   "metadata": {},
   "source": [
    "Denne hjelpefunksjonen henter etiketten til et spesifisert felt fra en gitt datakilde. Hvis feltet ikke er gyldig, returnerer det feltets navn."
   ]
  },
  {
   "cell_type": "code",
   "execution_count": 2,
   "metadata": {},
   "outputs": [],
   "source": [
    "function getFieldLabel(dataSource, fieldName) {\n",
    "    const gr = new GlideRecord(dataSource);\n",
    "    return gr.isValidField(fieldName) ? gr.getElement(fieldName).getLabel() : fieldName;\n",
    "}"
   ]
  },
  {
   "cell_type": "markdown",
   "metadata": {},
   "source": [
    "## Hente verdier til hver kolonne\n",
    "\n",
    "Denne funksjonen henter distinkte verdier for et spesifisert felt fra en datakilde, og bruker den relevante datospørringen."
   ]
  },
  {
   "cell_type": "code",
   "execution_count": 3,
   "metadata": {},
   "outputs": [],
   "source": [
    "function getDistinctValues(fieldName, dataSource, encodedQuery, dateQuery) {\n",
    "    const gr = new GlideAggregate(dataSource);\n",
    "    gr.addAggregate('COUNT');\n",
    "    gr.groupBy(fieldName);\n",
    "    if (encodedQuery) gr.addEncodedQuery(encodedQuery);\n",
    "    gr.addEncodedQuery(dateQuery);\n",
    "    gr.query();\n",
    "\n",
    "    const values = [];\n",
    "    while (gr.next()) {\n",
    "        const value = gr.getDisplayValue(fieldName) || gr.getValue(fieldName) || \"(empty)\";\n",
    "        values.push(value);\n",
    "    }\n",
    "    return values;\n",
    "}\n"
   ]
  },
  {
   "cell_type": "markdown",
   "metadata": {},
   "source": [
    "## Hente verdier til å regne prosent\n",
    "\n",
    "Denne funksjonen teller distinkte ansatte og summerer deres arbeidstimer basert på spesifikke kriterier."
   ]
  },
  {
   "cell_type": "code",
   "execution_count": 4,
   "metadata": {},
   "outputs": [],
   "source": [
    "function countDistinctEmployeesAndSumWorkingHours(timerDateQuery, rowField, groupByField) {\n",
    "    const gr = new GlideAggregate('x_gehas_nisprosjek_timer');\n",
    "    gr.addQuery('ansatt', '!=', '');\n",
    "    gr.addEncodedQuery(timerDateQuery);\n",
    "    gr.addAggregate('SUM', 'workinghours');\n",
    "    gr.groupBy(rowField);\n",
    "    if (groupByField) gr.groupBy(groupByField);\n",
    "    gr.groupBy('ansatt');\n",
    "    gr.query();\n",
    "\n",
    "    const data = {};\n",
    "    while (gr.next()) {\n",
    "        const rowValue = gr.getDisplayValue(rowField) || gr.getValue(rowField) || \"(empty)\";\n",
    "        const groupByValue = groupByField ? (gr.getDisplayValue(groupByField) || gr.getValue(groupByField) || \"(empty)\") : \"(none)\";\n",
    "        const employee = gr.getValue('ansatt');\n",
    "        const workingHours = parseFloat(gr.getAggregate('SUM', 'workinghours'));\n",
    "\n",
    "        if (!data[rowValue]) data[rowValue] = {};\n",
    "        if (!data[rowValue][groupByValue]) {\n",
    "            data[rowValue][groupByValue] = { employees: {}, totalWorkingHours: 0 };\n",
    "        }\n",
    "\n",
    "        data[rowValue][groupByValue].employees[employee] = true;\n",
    "        data[rowValue][groupByValue].totalWorkingHours += workingHours;\n",
    "    }\n",
    "\n",
    "    return Object.keys(data).map(rowValue => ({\n",
    "        rowValue,\n",
    "        columns: Object.keys(data[rowValue]).reduce((acc, groupByValue) => {\n",
    "            acc[groupByValue] = {\n",
    "                distinctCount: Object.keys(data[rowValue][groupByValue].employees).length,\n",
    "                totalWorkingHours: data[rowValue][groupByValue].totalWorkingHours\n",
    "            };\n",
    "            return acc;\n",
    "        }, {})\n",
    "    }));\n",
    "}\n"
   ]
  },
  {
   "cell_type": "markdown",
   "metadata": {},
   "source": [
    "# Dataaggregering"
   ]
  },
  {
   "cell_type": "markdown",
   "metadata": {},
   "source": [
    "Funksjonen aggregerer data etter rader og eventuelt etter kolonner. Den bruker hjelpefunksjonene for å hente nødvendige verdier og utfører de nødvendige beregningene for hver datakilde."
   ]
  },
  {
   "cell_type": "code",
   "execution_count": 5,
   "metadata": {},
   "outputs": [],
   "source": [
    "function aggregateData(rowField, groupByField, dataSource, encodedQuery, fravarDateQuery, timerDateQuery, returnPercentage) {\n",
    "    const gr = new GlideAggregate(dataSource);\n",
    "    const sumField = 'antalldager';\n",
    "\n",
    "    if (returnPercentage) {\n",
    "        gr.addAggregate('SUM', sumField);\n",
    "    } else {\n",
    "        gr.addAggregate('COUNT');\n",
    "    }\n",
    "\n",
    "    gr.groupBy(rowField);\n",
    "    if (groupByField) gr.groupBy(groupByField);\n",
    "    if (encodedQuery) gr.addEncodedQuery(encodedQuery);\n",
    "    gr.addEncodedQuery(fravarDateQuery);\n",
    "    gr.query();\n",
    "\n",
    "    const distinctEmployeeData = countDistinctEmployeesAndSumWorkingHours(timerDateQuery, rowField, groupByField);\n",
    "    const employeeCounts = {};\n",
    "    const workingHoursData = {};\n",
    "\n",
    "    distinctEmployeeData.forEach(row => {\n",
    "        employeeCounts[row.rowValue] = {};\n",
    "        workingHoursData[row.rowValue] = {};\n",
    "\n",
    "        Object.entries(row.columns).forEach(([column, columnData]) => {\n",
    "            employeeCounts[row.rowValue][column] = columnData.distinctCount;\n",
    "            workingHoursData[row.rowValue][column] = columnData.totalWorkingHours;\n",
    "        });\n",
    "    });\n",
    "\n",
    "    const data = [];\n",
    "    while (gr.next()) {\n",
    "        const rowValue = gr.getDisplayValue(rowField) || gr.getValue(rowField) || \"(empty)\";\n",
    "        const groupByValue = groupByField ? (gr.getDisplayValue(groupByField) || gr.getValue(groupByField) || \"(empty)\") : \"(none)\";\n",
    "\n",
    "        const fravarsDager = returnPercentage ? parseFloat(gr.getAggregate('SUM', sumField)) : parseFloat(gr.getAggregate('COUNT'));\n",
    "        const antallAnsatte = employeeCounts[rowValue]?.[groupByValue] || 0;\n",
    "        const totaleTimer = workingHoursData[rowValue]?.[groupByValue] || 0;\n",
    "\n",
    "        const totaleDager = totaleTimer / 7.5;\n",
    "        const muligeDager = antallAnsatte * totaleDager;\n",
    "        const arbeidsFravar = antallAnsatte > 0 ? fravarsDager / muligeDager : 0;\n",
    "\n",
    "        data.push({\n",
    "            rowValue,\n",
    "            groupByValue,\n",
    "            count: arbeidsFravar.toFixed(2)\n",
    "        });\n",
    "    }\n",
    "\n",
    "    return data;\n",
    "}\n"
   ]
  },
  {
   "cell_type": "markdown",
   "metadata": {},
   "source": [
    "Funksjonen aggregerer data fra flere datakilder og kombinerer resultatene i en samlet struktur. Hver datakilde behandles separat, og resultatene kombineres i et endelig datasett."
   ]
  },
  {
   "cell_type": "code",
   "execution_count": 6,
   "metadata": {},
   "outputs": [
    {
     "ename": "ReferenceError",
     "evalue": "dataSource1 is not defined",
     "output_type": "error",
     "traceback": [
      "Stack trace:",
      "ReferenceError: dataSource1 is not defined",
      "    at <anonymous>:3:11"
     ]
    }
   ],
   "source": [
    "const dataSources = [\n",
    "    { name: dataSource1, encodedQuery: encodedQuery1, label: input.label1 },\n",
    "    { name: dataSource2, encodedQuery: encodedQuery2, label: input.label2 },\n",
    "    { name: dataSource3, encodedQuery: encodedQuery3, label: input.label3 },\n",
    "    { name: dataSource4, encodedQuery: encodedQuery4, label: input.label4 },\n",
    "    { name: dataSource5, encodedQuery: encodedQuery5, label: input.label5 }\n",
    "];\n",
    "\n",
    "const combinedData = dataSources.map(({ name, encodedQuery, label }) => {\n",
    "    if (!name) return null;\n",
    "    const data = aggregateData(rowField, groupByColumns, name, encodedQuery, fravarDateQuery, timerDateQuery, returnPercentage);\n",
    "    return { dataSource: label || name, data };\n",
    "}).filter(Boolean);\n",
    "\n",
    "const activeDataSourcesCount = combinedData.length;"
   ]
  },
  {
   "cell_type": "markdown",
   "metadata": {},
   "source": [
    "# Formatering til HTML-tabell"
   ]
  },
  {
   "cell_type": "markdown",
   "metadata": {},
   "source": [
    "Til slutt forbereder funksjonen overskrifter og rader for å presentere dataene i et HTML-tabellformat."
   ]
  },
  {
   "cell_type": "code",
   "execution_count": 7,
   "metadata": {},
   "outputs": [
    {
     "ename": "Expected ',', got 'og' at file:///repl.tsx:23:94\n\n  ....find(data => data.rowValue === rowValue og data.groupByValue === groupByValue);\n                                              ~~",
     "evalue": "Expected ',', got 'og' at file:///repl.tsx:23:94\n\n  ....find(data => data.rowValue === rowValue og data.groupByValue === groupByValue);\n                                              ~~",
     "output_type": "error",
     "traceback": []
    }
   ],
   "source": [
    "const groupByHeaders = groupByColumns ? getDistinctValues(groupByColumns, dataSource1, encodedQuery1, fravarDateQuery) : [\"(none)\"];\n",
    "const rowHeaders = getDistinctValues(rowField, dataSource1, encodedQuery1, fravarDateQuery);\n",
    "\n",
    "const rowFieldLabel = getFieldLabel(dataSource1, rowField);\n",
    "\n",
    "const groupby_column_headers = groupByHeaders.filter(value => value !== rowFieldLabel);\n",
    "const groupby_row_headers = [rowFieldLabel].concat(rowHeaders);\n",
    "\n",
    "const filtered_data_header = [];\n",
    "if (activeDataSourcesCount > 1) {\n",
    "    groupby_column_headers.forEach(groupByValue => {\n",
    "        combinedData.forEach(dataSource => {\n",
    "            filtered_data_header.push(dataSource.dataSource);\n",
    "        });\n",
    "    });\n",
    "}\n",
    "\n",
    "const rowData = rowHeaders.map(rowValue => {\n",
    "    const row = [];\n",
    "    groupByHeaders.forEach(groupByValue => {\n",
    "        if (groupByValue !== rowFieldLabel) {\n",
    "            combinedData.forEach(dataSource => {\n",
    "                const matchingData = dataSource.data.find(data => data.rowValue === rowValue og data.groupByValue === groupByValue);\n",
    "                const count = matchingData ? matchingData.count : 0;\n",
    "                row.push(count);\n",
    "            });\n",
    "        }\n",
    "    });\n",
    "    return row;\n",
    "});\n"
   ]
  },
  {
   "cell_type": "markdown",
   "metadata": {},
   "source": [
    "## Returstruktur"
   ]
  },
  {
   "cell_type": "markdown",
   "metadata": {},
   "source": [
    "Funksjonen returnerer et objekt som inneholder de forberedte dataene, som inkluderer følgende egenskaper:\n",
    "\n",
    "- groupby_column_headers: Overskrifter for kolonnegrupperingene.\n",
    "- groupby_row_headers: Overskrifter for radgrupperingene.\n",
    "- filtered_data_header: Overskrifter for de filtrerte datakildene.\n",
    "- row_data: Aggregert data klar til presentasjon i et HTML-tabellformat."
   ]
  },
  {
   "cell_type": "code",
   "execution_count": 8,
   "metadata": {},
   "outputs": [
    {
     "ename": "SyntaxError",
     "evalue": "Illegal return statement",
     "output_type": "error",
     "traceback": [
      "Stack trace:",
      "SyntaxError: Illegal return statement"
     ]
    }
   ],
   "source": [
    "return {\n",
    "    groupby_column_headers: groupby_column_headers.filter(header => header !== '(none)'),\n",
    "    groupby_row_headers,\n",
    "    filtered_data_header,\n",
    "    row_data: rowData\n",
    "};"
   ]
  }
 ],
 "metadata": {
  "kernelspec": {
   "display_name": "Deno",
   "language": "typescript",
   "name": "deno"
  },
  "language_info": {
   "codemirror_mode": "typescript",
   "file_extension": ".ts",
   "mimetype": "text/x.typescript",
   "name": "typescript",
   "nbconvert_exporter": "script",
   "pygments_lexer": "typescript",
   "version": "5.5.2"
  }
 },
 "nbformat": 4,
 "nbformat_minor": 2
}
